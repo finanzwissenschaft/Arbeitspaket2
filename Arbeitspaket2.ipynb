{
 "cells": [
  {
   "cell_type": "code",
   "execution_count": 2,
   "id": "0ae49c03-2902-4f8a-8ebc-d29d1ed0bdda",
   "metadata": {},
   "outputs": [],
   "source": [
    "from __future__ import print_function\n",
    "from ipywidgets import interact, interactive, fixed, interact_manual\n",
    "import ipywidgets as widgets\n",
    "from ipywidgets import Box\n",
    "from IPython.core.display import HTML\n",
    "from IPython.display import IFrame\n",
    "\n",
    "import matplotlib.pyplot as plt\n",
    "import numpy as np\n",
    "import math\n",
    "\n",
    "import builtins"
   ]
  },
  {
   "cell_type": "code",
   "execution_count": 3,
   "id": "1edad9d8-4dfc-4db5-9dba-895af25128d6",
   "metadata": {},
   "outputs": [
    {
     "data": {
      "application/vnd.jupyter.widget-view+json": {
       "model_id": "aee3bb018a8c4f01950bd519955fd608",
       "version_major": 2,
       "version_minor": 0
      },
      "text/plain": [
       "A Jupyter Widget"
      ]
     },
     "metadata": {},
     "output_type": "display_data"
    }
   ],
   "source": [
    "file = builtins.open(\"Bilder/Logo.png\", \"rb\")\n",
    "image = file.read()\n",
    "bild_Logo = widgets.Image(\n",
    "    value=image,\n",
    "    format='png',\n",
    "    width=200,\n",
    "   #height=128,\n",
    "    )\n",
    "bild_Logo"
   ]
  },
  {
   "cell_type": "markdown",
   "id": "cbba69e4-c68d-46d3-b49b-237d51f44ba6",
   "metadata": {},
   "source": [
    "# <span style=\"font-family:Century Gothic;color:DarkCyan\">Arbeitsblatt 2</span>"
   ]
  },
  {
   "cell_type": "markdown",
   "id": "106f07bf-1204-4784-a66f-3e0797d64d96",
   "metadata": {},
   "source": [
    "## <span style=\"font-family:Century Gothic;color:DarkCyan\">Aufgabe 1</span>\n",
    "\n",
    "Die Wohlfahrtsökonomik untersucht verschiedene Allokationen von Ressourcen in Bezug auf ihren gesamtgesellschaftlichen Nutzen. Nennen und erläutern Sie den ersten Hauptsatz der Wohlfahrtstheorie."
   ]
  },
  {
   "cell_type": "code",
   "execution_count": 5,
   "id": "de7390e9-be91-4c53-abac-f2ccb011a529",
   "metadata": {},
   "outputs": [
    {
     "data": {
      "application/vnd.jupyter.widget-view+json": {
       "model_id": "6ddef43dc5cd4bb18f880d7a9c57c04f",
       "version_major": 2,
       "version_minor": 0
      },
      "text/plain": [
       "A Jupyter Widget"
      ]
     },
     "metadata": {},
     "output_type": "display_data"
    }
   ],
   "source": [
    "accordion_iso = widgets.Accordion([\n",
    "    widgets.HTML(\n",
    "    value=\"Die Ressourcenallokation in einem Marktgleichgewicht bei vollkommenem Wettbewerb ist pareto-effizient.\"\n",
    "    )], selected_index=None)\n",
    "accordion_iso.set_title(0, '1. Hauptsatz')\n",
    "\n",
    "\n",
    "\n",
    "accordion_iso"
   ]
  },
  {
   "cell_type": "markdown",
   "id": "39635407-9d17-4ded-88ec-855e7dab8d94",
   "metadata": {},
   "source": [
    "<div class=\"alert alert-block alert-info\">\n",
    "Detailliertere Erläuterungen werden in der Präsenzveranstaltung besprochen.\n",
    "</div>"
   ]
  },
  {
   "cell_type": "markdown",
   "id": "cac15335-c7ef-40a0-a70b-c36e9054423c",
   "metadata": {},
   "source": [
    "## <span style=\"font-family:Century Gothic;color:DarkCyan\">Aufgabe 2</span>\n",
    "### <span style=\"font-family:Century Gothic;color:DarkCyan\">Aufgabe 2.1</span>\n",
    "Es gibt vier Arten von Externalitäten: positive und negative Konsumexternalitäten sowie positive und negative Produktionsexternalitäten. Halten Sie in Ihrem Alltag Ausschau nach Beispielen für Externalitäten. Versuchen Sie jede Externalität auf einem Foto abzubilden und senden Sie dieses an sum@uni-hohenheim.de. Geben Sie hierbei an, um was für eine Art von Externalität es sich Ihrer Meinung nach handelt. Ausgewählte Einreichungen werden in der Präsenzveranstaltung besprochen (anonym)."
   ]
  },
  {
   "cell_type": "markdown",
   "id": "00d3ccf5-324d-4031-a756-d38a1542c313",
   "metadata": {},
   "source": [
    "### <span style=\"font-family:Century Gothic;color:DarkCyan\">Aufgabe 2.2</span>\n",
    "Skizzieren Sie ein Marktgleichgewicht unter vollkommenem Wettbewerb in untenstehendem Diagramm. Zeichnen Sie dann folgende Alternativsituationen in das Diagramm ein:\n",
    "\n",
    "<OL TYPE=\"i\">\n",
    "    <LI TYPE=\"i\"> Positive Konsumexternalität </LI>\n",
    "    <LI TYPE=\"i\"> Negative Konsumexternalität</LI>\n",
    "    <LI TYPE=\"i\"> Positive Produktionsexternalität </LI>\n",
    "    <LI TYPE=\"i\"> Negative Produktionsexternalität </LI>\n",
    "</OL>\n",
    "\n",
    "Gehen Sie hierbei davon aus, dass der Grenzschaden sich proportional mit der produzierten Menge x erhöht. Nutzen Sie den jeweiligen Slider, um Ihr Ergebnis zu verifizieren.\n",
    "\n",
    "*Hinweis: Aktivieren Sie immer nur einen der vier Slider gleichzeitig.*"
   ]
  },
  {
   "cell_type": "code",
   "execution_count": 4,
   "id": "97e50bec-401e-434b-8578-a5fa6e6bdf92",
   "metadata": {},
   "outputs": [
    {
     "data": {
      "application/vnd.jupyter.widget-view+json": {
       "model_id": "5289004e2aa74ccca25efb82f00a38b9",
       "version_major": 2,
       "version_minor": 0
      },
      "text/plain": [
       "A Jupyter Widget"
      ]
     },
     "metadata": {},
     "output_type": "display_data"
    }
   ],
   "source": [
    "%matplotlib inline\n",
    "\n",
    "def f(i,ii,iii,iv):\n",
    "    plt.figure(2)\n",
    "    x = np.linspace(0, 80, num=100)\n",
    "    # Marktgleichgewicht\n",
    "    plt.plot(x,60-x,color=\"Darkcyan\")\n",
    "    plt.plot(x,10+x,color=\"Darkcyan\")\n",
    "    # Negative Produktionsexternalität\n",
    "    plt.plot(x,i*(10+1.75*x),color=\"maroon\")\n",
    "    # Positive Produktionsexternalität\n",
    "    plt.plot(x,ii*(10+0.25*x),color=\"maroon\")\n",
    "    # Negative Konsumexternalität\n",
    "    plt.plot(x,iii*(60-1.75*x),color=\"maroon\")\n",
    "    # Positive Konsumexternalität\n",
    "    plt.plot(x,iv*(60-0.25*x),color=\"maroon\")\n",
    "    # Settings\n",
    "    plt.ylim(0, 80)\n",
    "    plt.xlabel(\"Menge $x$\")\n",
    "    plt.margins(x=0)\n",
    "    plt.ylabel(\"Preis $p$\")    \n",
    "    plt.show()\n",
    "    \n",
    "\n",
    "interactive_plot = interactive(f, i=(0, 1,1), ii=(0, 1,1), iii=(0, 1,1), iv=(0, 1,1))\n",
    "\n",
    "interactive_plot\n"
   ]
  },
  {
   "cell_type": "markdown",
   "id": "3335a8d9-19eb-4034-90e3-fe224ea9431c",
   "metadata": {},
   "source": [
    "### <span style=\"font-family:Century Gothic;color:DarkCyan\">Aufgabe 2.3</span>\n",
    "Fertigen Sie nun dasselbe Diagramm für den Fall eines **konstanten** Grenzschadens an.\n",
    "\n",
    "*Die Lösung zu dieser Aufgabe wird in der Präsenzveranstaltung besprochen.*"
   ]
  },
  {
   "cell_type": "markdown",
   "id": "a304bcdd-9fb8-464b-ab72-f3f40dd107c2",
   "metadata": {},
   "source": [
    "## <span style=\"font-family:Century Gothic;color:DarkCyan\">Aufgabe 3</span>\n",
    "Ein Unternehmen produziert $x$ Einheiten Hosen Hosen mit der inversen Angebotsfunktion $S(x)=10+x$. Pro produzierter Einheit $x$ stößt das Unternehmen CO<sub>2</sub> aus, und es entsteht dadurch ein Grenzschaden von $GS=0,5x$. Die inverse Nachfragefunktion nach Hosen ist gegeben durch $D(x)=60-x$.\n",
    "### <span style=\"font-family:Century Gothic;color:DarkCyan\">Aufgabe 3.1</span>\n",
    "Wie hoch sind die sozialen Grenzkosten, die privaten Grenzkosten und der private Grenznutzen?"
   ]
  },
  {
   "cell_type": "code",
   "execution_count": null,
   "id": "bd7e67a2-a9f3-43c6-b078-968df4ec4c6f",
   "metadata": {},
   "outputs": [],
   "source": [
    "accordion_k = widgets.Accordion([\n",
    "    widgets.HTML(\n",
    "    value=\"Privater Grenznutzen (PGN): 60 - x <br> Private Grenzkosten (PGK): 10 + x <br> Grenzschaden (GS): 0,75x <br> Soziale Grenzkosten (SGK): PGK + GS = 10 + 1,5x\"\n",
    "    )], selected_index=None)\n",
    "accordion_k.set_title(0, 'Lösung')\n",
    "\n",
    "accordion_k"
   ]
  },
  {
   "cell_type": "markdown",
   "id": "04b5d64b-d1d9-4b85-b107-ab2bdcfd8421",
   "metadata": {},
   "source": [
    "### <span style=\"font-family:Century Gothic;color:DarkCyan\">Aufgabe 3.2</span>\n",
    "Zeichnen Sie das Markgleichgewicht (GG) in untenstehende Grafik ein. Überprüfen Sie Ihre Lösung indem Sie den Slider \"GG\" von 0 auf 1 schieben.\n",
    "\n",
    "Zeichnen Sie im Anschluss das Soziale Optimum (SO) in untenstehende Grafik ein. Überprüfen Sie Ihre Lösung, indem Sie den Slider \"SO\" von 0 auf 1 schieben."
   ]
  },
  {
   "cell_type": "code",
   "execution_count": null,
   "id": "9f425f90-36fc-4d9f-98c8-2e11c446769e",
   "metadata": {},
   "outputs": [],
   "source": [
    "%matplotlib inline\n",
    "\n",
    "def f(GG,SO):\n",
    "    plt.figure(2)\n",
    "    x = np.linspace(0, 80, num=100)\n",
    "    # Marktgleichgewicht\n",
    "    plt.plot(x,GG*(60-x),color=\"Darkcyan\")\n",
    "    plt.plot(x,GG*(10+x),color=\"Darkcyan\")\n",
    "    plt.text(GG*28, GG*35,'$MG$',color=\"Darkcyan\")\n",
    "    # Negative Produktionsexternalität\n",
    "    plt.plot(x,SO*(10+1.5*x),color=\"maroon\")\n",
    "    plt.text(SO*22, SO*40,'$SO$',color=\"maroon\")\n",
    "    #plt.text(SO*75, SO*135,'$SGK_T$',color=\"maroon\")\n",
    "    # Settings\n",
    "    plt.ylim(0, 80)\n",
    "    plt.xlabel(\"Menge $x$\")\n",
    "    plt.margins(x=0)\n",
    "    plt.ylabel(\"Preis $p$\")    \n",
    "    plt.show()\n",
    "    \n",
    "\n",
    "interactive_plot = interactive(f, GG=(0, 1,1), SO=(0, 1,1))\n",
    "\n",
    "interactive_plot"
   ]
  },
  {
   "cell_type": "markdown",
   "id": "ab1a0385-9121-45b3-9718-3a8c65d88e0a",
   "metadata": {},
   "source": [
    "### <span style=\"font-family:Century Gothic;color:DarkCyan\">Aufgabe 3.3</span>\n",
    "Bestimmen Sie das Marktgleichgewicht rechnerisch.  Überlegen Sie hierfür zunächst, welche Bedingung im Marktgleichgewicht erfüllt sein muss.   "
   ]
  },
  {
   "cell_type": "code",
   "execution_count": null,
   "id": "3767a412-4e4f-4bf4-b3a5-9db11681db2a",
   "metadata": {},
   "outputs": [],
   "source": [
    "#accordion_mg = widgets.Accordion([\n",
    "#    widgets.HTML(\n",
    "#    value=\"Im Marktgleichgewicht gilt: PGK=PGN\"\n",
    "#    ),\n",
    "#    widgets.HTML(\n",
    "#    value=\"<math>10+x = 60-x </math><br><math>2x = 50 </math> <br> <math>x=25; p=35</math>\"\n",
    "#    )], selected_index=None)\n",
    "#accordion_mg.set_title(0, 'Lösungshinweis')\n",
    "#accordion_mg.set_title(1, 'Rechnung')\n",
    "\n",
    "#accordion_mg\n",
    "\n",
    "text_6 = widgets.IntText(\n",
    "    value=0,\n",
    "    description='Hosen',\n",
    "    disabled=False\n",
    ")\n",
    "\n",
    "\n",
    "button_6 = widgets.Button(\n",
    "    description='Auswertung',\n",
    "    disabled=False,\n",
    "    button_style='', # 'success', 'info', 'warning', 'danger' or ''\n",
    "    tooltip='Bitte klicken.',\n",
    "    #icon='check' # (FontAwesome names without the `fa-` prefix)\n",
    ")\n",
    "\n",
    "\n",
    "# define function\n",
    "def check(button_instance):\n",
    "  if text_6.value  == 25:\n",
    "    button_6.button_style = 'success'\n",
    "    button_6.description = 'Richtig!'\n",
    "  else:\n",
    "    button_6.button_style = 'danger'\n",
    "    button_6.description = 'Leider falsch.'\n",
    "\n",
    "# set function as on_click on button\n",
    "button_6.on_click(check)\n",
    "\n",
    "# nebeneinander in Box anzeigen\n",
    "items = [text_6, button_6]\n",
    "box_6 = Box(children=items)\n",
    "display(box_6) # <- this one command displays all children\n",
    "\n",
    "text_7 = widgets.IntText(\n",
    "    value=0,\n",
    "    description='Preis',\n",
    "    disabled=False\n",
    ")\n",
    "\n",
    "\n",
    "button_7 = widgets.Button(\n",
    "    description='Auswertung',\n",
    "    disabled=False,\n",
    "    button_style='', # 'success', 'info', 'warning', 'danger' or ''\n",
    "    tooltip='Bitte klicken.',\n",
    "    #icon='check' # (FontAwesome names without the `fa-` prefix)\n",
    ")\n",
    "\n",
    "\n",
    "# define function\n",
    "def check(button_instance):\n",
    "  if text_7.value  == 35:\n",
    "    button_7.button_style = 'success'\n",
    "    button_7.description = 'Richtig!'\n",
    "  else:\n",
    "    button_7.button_style = 'danger'\n",
    "    button_7.description = 'Leider falsch.'\n",
    "\n",
    "# set function as on_click on button\n",
    "button_7.on_click(check)\n",
    "\n",
    "# nebeneinander in Box anzeigen\n",
    "items = [text_7, button_7]\n",
    "box_7 = Box(children=items)\n",
    "display(box_7) # <- this one command displays all children"
   ]
  },
  {
   "cell_type": "markdown",
   "id": "e99ec196-e1f3-4ee8-bffe-8d96168ad544",
   "metadata": {},
   "source": [
    "### <span style=\"font-family:Century Gothic;color:DarkCyan\">Aufgabe 3.4</span>\n",
    "Bestimmen das soziale Optimum rechnerisch. Überlegen Sie hierfür zunächst, welche Bedingung im sozialen Optimum erfüllt sein muss."
   ]
  },
  {
   "cell_type": "code",
   "execution_count": null,
   "id": "fb6e726b-034f-47c9-9f92-2c9b8f248b49",
   "metadata": {},
   "outputs": [],
   "source": [
    "#accordion_so = widgets.Accordion([\n",
    "#    widgets.HTML(\n",
    "#    value=\"Im Sozialen Optimum gilt: PGK + GS = PGN\"\n",
    "#    ),\n",
    "#    widgets.HTML(\n",
    "#    value=\"<math>10+x+0,75x = 60-x </math><br><math>2,75x = 50 </math> <br> <math>x=18,2; p=41,8</math>\"\n",
    "#    )], selected_index=None)\n",
    "#accordion_so.set_title(0, 'Lösungshinweis')\n",
    "#accordion_so.set_title(1, 'Rechnung')\n",
    "\n",
    "#accordion_so\n",
    "\n",
    "text_8 = widgets.IntText(\n",
    "    value=0,\n",
    "    description='Hosen',\n",
    "    disabled=False\n",
    ")\n",
    "\n",
    "button_8 = widgets.Button(\n",
    "    description='Auswertung',\n",
    "    disabled=False,\n",
    "    button_style='', # 'success', 'info', 'warning', 'danger' or ''\n",
    "    tooltip='Bitte klicken.',\n",
    "    #icon='check' # (FontAwesome names without the `fa-` prefix)\n",
    ")\n",
    "\n",
    "# define function\n",
    "def check(button_instance):\n",
    "  if text_8.value  == 18:\n",
    "    button_8.button_style = 'success'\n",
    "    button_8.description = 'Richtig!'\n",
    "  else:\n",
    "    button_8.button_style = 'danger'\n",
    "    button_8.description = 'Leider falsch.'\n",
    "\n",
    "# set function as on_click on button\n",
    "button_8.on_click(check)\n",
    "\n",
    "# nebeneinander in Box anzeigen\n",
    "items = [text_8, button_8]\n",
    "box_8 = Box(children=items)\n",
    "display(box_8) # <- this one command displays all children\n",
    "\n",
    "text_9 = widgets.IntText(\n",
    "    value=0,\n",
    "    description='Preis',\n",
    "    disabled=False\n",
    ")\n",
    "\n",
    "button_9 = widgets.Button(\n",
    "    description='Auswertung',\n",
    "    disabled=False,\n",
    "    button_style='', # 'success', 'info', 'warning', 'danger' or ''\n",
    "    tooltip='Bitte klicken.',\n",
    "    #icon='check' # (FontAwesome names without the `fa-` prefix)\n",
    ")\n",
    "\n",
    "# define function\n",
    "def check(button_instance):\n",
    "  if text_9.value  == 42:\n",
    "    button_9.button_style = 'success'\n",
    "    button_9.description = 'Richtig!'\n",
    "  else:\n",
    "    button_9.button_style = 'danger'\n",
    "    button_9.description = 'Leider falsch.'\n",
    "\n",
    "# set function as on_click on button\n",
    "button_9.on_click(check)\n",
    "\n",
    "# nebeneinander in Box anzeigen\n",
    "items = [text_9, button_9]\n",
    "box_9 = Box(children=items)\n",
    "display(box_9) # <- this one command displays all children\n"
   ]
  },
  {
   "cell_type": "markdown",
   "id": "e44719eb-1bef-4d3a-98e1-2fac9ab5a1f5",
   "metadata": {},
   "source": [
    "### <span style=\"font-family:Century Gothic;color:DarkCyan\">Aufgabe 3.5</span>\n",
    "Entsteht im Marktgleichgewicht ein Wohlfahrtsverlust? Wenn ja, warum und in welcher Höhe?"
   ]
  },
  {
   "cell_type": "code",
   "execution_count": null,
   "id": "c060dcd6-160f-491e-bbf9-eb55e93b99cc",
   "metadata": {},
   "outputs": [],
   "source": [
    "opinion_wfv = widgets.RadioButtons(\n",
    "    options=['Kein Wohlfahrtsverlust','Wohlfahrtsverlust in Höhe von 12,5','Wohlfahrtsverlust in Höhe von 25'],\n",
    "    value=None,\n",
    "    description='',\n",
    "    disabled=False,\n",
    ")\n",
    "\n",
    "button_wfv = widgets.Button(\n",
    "    description='Auswertung',\n",
    "    disabled=False,\n",
    "    button_style='', # 'success', 'info', 'warning', 'danger' or ''\n",
    "    tooltip='Bitte klicken.',\n",
    "    #icon='check' # (FontAwesome names without the `fa-` prefix)\n",
    ")\n",
    "\n",
    "\n",
    "# define function\n",
    "def check(button_instance):\n",
    "  if opinion_wfv.value == 'Wohlfahrtsverlust in Höhe von 12,5':\n",
    "    button_wfv.button_style = 'success'\n",
    "    button_wfv.description = 'Richtig!'\n",
    "  else:\n",
    "    button_wfv.button_style = 'danger'\n",
    "    button_wfv.description = 'Leider falsch.'\n",
    "\n",
    "# set function as on_click on button\n",
    "button_wfv.on_click(check)\n",
    "\n",
    "items = [opinion_wfv, button_wfv]\n",
    "box_wfv = Box(children=items)\n",
    "display(box_wfv) # <- this one command displays all children"
   ]
  },
  {
   "cell_type": "markdown",
   "id": "53048123-ed76-47e0-bf91-27fa77ce6cb9",
   "metadata": {},
   "source": [
    "## <span style=\"font-family:Century Gothic;color:DarkCyan\">Aufgabe 4</span>\n",
    "Betrachten Sie folgenden Artikel aus dem Hohenheimer Online-Kurier: https://www.uni-hohenheim.de/kurier?no_cache=1&tx_ttnews%5Btt_news%5D=40378&cHash=aa0bd191032520854f12312bb3952251\n",
    "\n",
    "### <span style=\"font-family:Century Gothic;color:DarkCyan\">Aufgabe 4.1</span>\n",
    "Was sind die Privaten Kosten für die Universität Hohenheim? Was ist der private Grenznutzen für die Universität Hohenheim? Was ist der soziale Grenznutzen?\n",
    "\n",
    "### <span style=\"font-family:Century Gothic;color:DarkCyan\">Aufgabe 4.2</span>\n",
    "Betrachten Sie die Wiesen auf dem Unigelände. Werden diese nun wieder regelmäßig gemäht? Begründen Sie Ihre Beobachtung mittels der Theorie der Externalitäten.\n",
    "\n",
    "<div class=\"alert alert-block alert-info\">\n",
    "Aufgaben 4.1 und 4.2 werden in der Präsenzveranstaltung besprochen.\n",
    "</div>\n",
    "\n",
    "### <span style=\"font-family:Century Gothic;color:DarkCyan\">Aufgabe 4.3</span>\n",
    "Welche Lösungsmöglichkeiten gibt es, um auch im privaten Marktgleichgewicht die Mengen und Preisen des sozialen Optimums zu erreichen?"
   ]
  },
  {
   "cell_type": "code",
   "execution_count": null,
   "id": "4143135f-62fc-4cf5-8c16-9d29d21877b0",
   "metadata": {},
   "outputs": [],
   "source": [
    "accordion_so = widgets.Accordion([\n",
    "    widgets.HTML(\n",
    "    value=\"<ul> \\\n",
    "    <li> Verhandlung </li> \\\n",
    "    <li> Fusion </li> \\\n",
    "    <li> Soziale Norm</li> \\\n",
    "    </ul> \\\n",
    "        Mehr zu privaten Lösungsmöglichkeiten erfahren Sie in Übungsblatt 3.\"\n",
    "    ),\n",
    "    widgets.HTML(\n",
    "    value=\"<ul> \\\n",
    "    <li> Pigou Steuer </li> \\\n",
    "    <li> Mengenregulierung </li> \\\n",
    "    </ul> \\\n",
    "        Mehr zu staatlichen Lösungsmöglichkeiten erfahren Sie in Übungsblatt 4.\"\n",
    "    )], selected_index=None)\n",
    "accordion_so.set_title(0, 'Private Lösungsmöglichkeiten')\n",
    "accordion_so.set_title(1, 'Staatliche Lösungsmöglichkeiten')\n",
    "\n",
    "accordion_so"
   ]
  }
 ],
 "metadata": {
  "kernelspec": {
   "display_name": "Python 3 (ipykernel)",
   "language": "python",
   "name": "python3"
  },
  "language_info": {
   "codemirror_mode": {
    "name": "ipython",
    "version": 3
   },
   "file_extension": ".py",
   "mimetype": "text/x-python",
   "name": "python",
   "nbconvert_exporter": "python",
   "pygments_lexer": "ipython3",
   "version": "3.7.3"
  }
 },
 "nbformat": 4,
 "nbformat_minor": 5
}
